{
 "cells": [
  {
   "cell_type": "code",
   "execution_count": 1,
   "id": "a25c717e",
   "metadata": {},
   "outputs": [],
   "source": [
    "#importing the libraries\n",
    "import pandas as pd\n",
    "import numpy as np\n",
    "import matplotlib.pyplot as plt\n",
    "#reading the dataset\n",
    "dataset=pd.read_csv(\"video_games.csv\")"
   ]
  },
  {
   "cell_type": "code",
   "execution_count": 2,
   "id": "1dc5d963",
   "metadata": {},
   "outputs": [
    {
     "name": "stdout",
     "output_type": "stream",
     "text": [
      "<class 'pandas.core.frame.DataFrame'>\n",
      "RangeIndex: 6825 entries, 0 to 6824\n",
      "Data columns (total 17 columns):\n",
      " #   Column           Non-Null Count  Dtype  \n",
      "---  ------           --------------  -----  \n",
      " 0   Unnamed: 0       6825 non-null   int64  \n",
      " 1   name             6825 non-null   object \n",
      " 2   platform         6825 non-null   object \n",
      " 3   year_of_release  6825 non-null   int64  \n",
      " 4   genre            6825 non-null   object \n",
      " 5   publisher        6825 non-null   object \n",
      " 6   na_sales         6825 non-null   float64\n",
      " 7   eu_sales         6825 non-null   float64\n",
      " 8   jp_sales         6825 non-null   float64\n",
      " 9   other_sales      6825 non-null   float64\n",
      " 10  global_sales     6825 non-null   float64\n",
      " 11  critic_score     6825 non-null   float64\n",
      " 12  critic_count     6825 non-null   float64\n",
      " 13  user_score       6825 non-null   float64\n",
      " 14  user_count       6825 non-null   float64\n",
      " 15  developer        6825 non-null   object \n",
      " 16  rating           6825 non-null   object \n",
      "dtypes: float64(9), int64(2), object(6)\n",
      "memory usage: 906.6+ KB\n"
     ]
    }
   ],
   "source": [
    "dataset.info()"
   ]
  },
  {
   "cell_type": "code",
   "execution_count": 3,
   "id": "6925e389",
   "metadata": {},
   "outputs": [
    {
     "data": {
      "text/html": [
       "<div>\n",
       "<style scoped>\n",
       "    .dataframe tbody tr th:only-of-type {\n",
       "        vertical-align: middle;\n",
       "    }\n",
       "\n",
       "    .dataframe tbody tr th {\n",
       "        vertical-align: top;\n",
       "    }\n",
       "\n",
       "    .dataframe thead th {\n",
       "        text-align: right;\n",
       "    }\n",
       "</style>\n",
       "<table border=\"1\" class=\"dataframe\">\n",
       "  <thead>\n",
       "    <tr style=\"text-align: right;\">\n",
       "      <th></th>\n",
       "      <th>name</th>\n",
       "      <th>platform</th>\n",
       "      <th>year_of_release</th>\n",
       "      <th>genre</th>\n",
       "      <th>publisher</th>\n",
       "      <th>na_sales</th>\n",
       "      <th>eu_sales</th>\n",
       "      <th>jp_sales</th>\n",
       "      <th>other_sales</th>\n",
       "      <th>global_sales</th>\n",
       "      <th>critic_score</th>\n",
       "      <th>critic_count</th>\n",
       "      <th>user_score</th>\n",
       "      <th>user_count</th>\n",
       "      <th>developer</th>\n",
       "      <th>rating</th>\n",
       "    </tr>\n",
       "  </thead>\n",
       "  <tbody>\n",
       "    <tr>\n",
       "      <th>0</th>\n",
       "      <td>Wii Sports</td>\n",
       "      <td>Wii</td>\n",
       "      <td>2006</td>\n",
       "      <td>Sports</td>\n",
       "      <td>Nintendo</td>\n",
       "      <td>41.36</td>\n",
       "      <td>28.96</td>\n",
       "      <td>3.77</td>\n",
       "      <td>8.45</td>\n",
       "      <td>82.53</td>\n",
       "      <td>76.0</td>\n",
       "      <td>51.0</td>\n",
       "      <td>8.0</td>\n",
       "      <td>322.0</td>\n",
       "      <td>Nintendo</td>\n",
       "      <td>E</td>\n",
       "    </tr>\n",
       "    <tr>\n",
       "      <th>1</th>\n",
       "      <td>Mario Kart Wii</td>\n",
       "      <td>Wii</td>\n",
       "      <td>2008</td>\n",
       "      <td>Racing</td>\n",
       "      <td>Nintendo</td>\n",
       "      <td>15.68</td>\n",
       "      <td>12.76</td>\n",
       "      <td>3.79</td>\n",
       "      <td>3.29</td>\n",
       "      <td>35.52</td>\n",
       "      <td>82.0</td>\n",
       "      <td>73.0</td>\n",
       "      <td>8.3</td>\n",
       "      <td>709.0</td>\n",
       "      <td>Nintendo</td>\n",
       "      <td>E</td>\n",
       "    </tr>\n",
       "    <tr>\n",
       "      <th>2</th>\n",
       "      <td>Wii Sports Resort</td>\n",
       "      <td>Wii</td>\n",
       "      <td>2009</td>\n",
       "      <td>Sports</td>\n",
       "      <td>Nintendo</td>\n",
       "      <td>15.61</td>\n",
       "      <td>10.93</td>\n",
       "      <td>3.28</td>\n",
       "      <td>2.95</td>\n",
       "      <td>32.77</td>\n",
       "      <td>80.0</td>\n",
       "      <td>73.0</td>\n",
       "      <td>8.0</td>\n",
       "      <td>192.0</td>\n",
       "      <td>Nintendo</td>\n",
       "      <td>E</td>\n",
       "    </tr>\n",
       "    <tr>\n",
       "      <th>3</th>\n",
       "      <td>New Super Mario Bros.</td>\n",
       "      <td>DS</td>\n",
       "      <td>2006</td>\n",
       "      <td>Platform</td>\n",
       "      <td>Nintendo</td>\n",
       "      <td>11.28</td>\n",
       "      <td>9.14</td>\n",
       "      <td>6.50</td>\n",
       "      <td>2.88</td>\n",
       "      <td>29.80</td>\n",
       "      <td>89.0</td>\n",
       "      <td>65.0</td>\n",
       "      <td>8.5</td>\n",
       "      <td>431.0</td>\n",
       "      <td>Nintendo</td>\n",
       "      <td>E</td>\n",
       "    </tr>\n",
       "    <tr>\n",
       "      <th>4</th>\n",
       "      <td>Wii Play</td>\n",
       "      <td>Wii</td>\n",
       "      <td>2006</td>\n",
       "      <td>Misc</td>\n",
       "      <td>Nintendo</td>\n",
       "      <td>13.96</td>\n",
       "      <td>9.18</td>\n",
       "      <td>2.93</td>\n",
       "      <td>2.84</td>\n",
       "      <td>28.92</td>\n",
       "      <td>58.0</td>\n",
       "      <td>41.0</td>\n",
       "      <td>6.6</td>\n",
       "      <td>129.0</td>\n",
       "      <td>Nintendo</td>\n",
       "      <td>E</td>\n",
       "    </tr>\n",
       "    <tr>\n",
       "      <th>...</th>\n",
       "      <td>...</td>\n",
       "      <td>...</td>\n",
       "      <td>...</td>\n",
       "      <td>...</td>\n",
       "      <td>...</td>\n",
       "      <td>...</td>\n",
       "      <td>...</td>\n",
       "      <td>...</td>\n",
       "      <td>...</td>\n",
       "      <td>...</td>\n",
       "      <td>...</td>\n",
       "      <td>...</td>\n",
       "      <td>...</td>\n",
       "      <td>...</td>\n",
       "      <td>...</td>\n",
       "      <td>...</td>\n",
       "    </tr>\n",
       "    <tr>\n",
       "      <th>6820</th>\n",
       "      <td>E.T. The Extra-Terrestrial</td>\n",
       "      <td>Game Boy Advance</td>\n",
       "      <td>2001</td>\n",
       "      <td>Action</td>\n",
       "      <td>NewKidCo</td>\n",
       "      <td>0.01</td>\n",
       "      <td>0.00</td>\n",
       "      <td>0.00</td>\n",
       "      <td>0.00</td>\n",
       "      <td>0.01</td>\n",
       "      <td>46.0</td>\n",
       "      <td>4.0</td>\n",
       "      <td>2.4</td>\n",
       "      <td>21.0</td>\n",
       "      <td>Fluid Studios</td>\n",
       "      <td>E</td>\n",
       "    </tr>\n",
       "    <tr>\n",
       "      <th>6821</th>\n",
       "      <td>Mortal Kombat: Deadly Alliance</td>\n",
       "      <td>Game Boy Advance</td>\n",
       "      <td>2002</td>\n",
       "      <td>Fighting</td>\n",
       "      <td>Midway Games</td>\n",
       "      <td>0.01</td>\n",
       "      <td>0.00</td>\n",
       "      <td>0.00</td>\n",
       "      <td>0.00</td>\n",
       "      <td>0.01</td>\n",
       "      <td>81.0</td>\n",
       "      <td>12.0</td>\n",
       "      <td>8.8</td>\n",
       "      <td>9.0</td>\n",
       "      <td>Criterion Games</td>\n",
       "      <td>M</td>\n",
       "    </tr>\n",
       "    <tr>\n",
       "      <th>6822</th>\n",
       "      <td>Metal Gear Solid V: Ground Zeroes</td>\n",
       "      <td>PC</td>\n",
       "      <td>2014</td>\n",
       "      <td>Action</td>\n",
       "      <td>Konami Digital Entertainment</td>\n",
       "      <td>0.00</td>\n",
       "      <td>0.01</td>\n",
       "      <td>0.00</td>\n",
       "      <td>0.00</td>\n",
       "      <td>0.01</td>\n",
       "      <td>80.0</td>\n",
       "      <td>20.0</td>\n",
       "      <td>7.6</td>\n",
       "      <td>412.0</td>\n",
       "      <td>Kojima Productions</td>\n",
       "      <td>M</td>\n",
       "    </tr>\n",
       "    <tr>\n",
       "      <th>6823</th>\n",
       "      <td>Breach</td>\n",
       "      <td>PC</td>\n",
       "      <td>2011</td>\n",
       "      <td>Shooter</td>\n",
       "      <td>Destineer</td>\n",
       "      <td>0.01</td>\n",
       "      <td>0.00</td>\n",
       "      <td>0.00</td>\n",
       "      <td>0.00</td>\n",
       "      <td>0.01</td>\n",
       "      <td>61.0</td>\n",
       "      <td>12.0</td>\n",
       "      <td>5.8</td>\n",
       "      <td>43.0</td>\n",
       "      <td>Atomic Games</td>\n",
       "      <td>T</td>\n",
       "    </tr>\n",
       "    <tr>\n",
       "      <th>6824</th>\n",
       "      <td>STORM: Frontline Nation</td>\n",
       "      <td>PC</td>\n",
       "      <td>2011</td>\n",
       "      <td>Strategy</td>\n",
       "      <td>Unknown</td>\n",
       "      <td>0.00</td>\n",
       "      <td>0.01</td>\n",
       "      <td>0.00</td>\n",
       "      <td>0.00</td>\n",
       "      <td>0.01</td>\n",
       "      <td>60.0</td>\n",
       "      <td>12.0</td>\n",
       "      <td>7.2</td>\n",
       "      <td>13.0</td>\n",
       "      <td>SimBin</td>\n",
       "      <td>E10+</td>\n",
       "    </tr>\n",
       "  </tbody>\n",
       "</table>\n",
       "<p>6825 rows × 16 columns</p>\n",
       "</div>"
      ],
      "text/plain": [
       "                                   name          platform  year_of_release  \\\n",
       "0                            Wii Sports               Wii             2006   \n",
       "1                        Mario Kart Wii               Wii             2008   \n",
       "2                     Wii Sports Resort               Wii             2009   \n",
       "3                 New Super Mario Bros.                DS             2006   \n",
       "4                              Wii Play               Wii             2006   \n",
       "...                                 ...               ...              ...   \n",
       "6820         E.T. The Extra-Terrestrial  Game Boy Advance             2001   \n",
       "6821     Mortal Kombat: Deadly Alliance  Game Boy Advance             2002   \n",
       "6822  Metal Gear Solid V: Ground Zeroes                PC             2014   \n",
       "6823                             Breach                PC             2011   \n",
       "6824            STORM: Frontline Nation                PC             2011   \n",
       "\n",
       "         genre                     publisher  na_sales  eu_sales  jp_sales  \\\n",
       "0       Sports                      Nintendo     41.36     28.96      3.77   \n",
       "1       Racing                      Nintendo     15.68     12.76      3.79   \n",
       "2       Sports                      Nintendo     15.61     10.93      3.28   \n",
       "3     Platform                      Nintendo     11.28      9.14      6.50   \n",
       "4         Misc                      Nintendo     13.96      9.18      2.93   \n",
       "...        ...                           ...       ...       ...       ...   \n",
       "6820    Action                      NewKidCo      0.01      0.00      0.00   \n",
       "6821  Fighting                  Midway Games      0.01      0.00      0.00   \n",
       "6822    Action  Konami Digital Entertainment      0.00      0.01      0.00   \n",
       "6823   Shooter                     Destineer      0.01      0.00      0.00   \n",
       "6824  Strategy                       Unknown      0.00      0.01      0.00   \n",
       "\n",
       "      other_sales  global_sales  critic_score  critic_count  user_score  \\\n",
       "0            8.45         82.53          76.0          51.0         8.0   \n",
       "1            3.29         35.52          82.0          73.0         8.3   \n",
       "2            2.95         32.77          80.0          73.0         8.0   \n",
       "3            2.88         29.80          89.0          65.0         8.5   \n",
       "4            2.84         28.92          58.0          41.0         6.6   \n",
       "...           ...           ...           ...           ...         ...   \n",
       "6820         0.00          0.01          46.0           4.0         2.4   \n",
       "6821         0.00          0.01          81.0          12.0         8.8   \n",
       "6822         0.00          0.01          80.0          20.0         7.6   \n",
       "6823         0.00          0.01          61.0          12.0         5.8   \n",
       "6824         0.00          0.01          60.0          12.0         7.2   \n",
       "\n",
       "      user_count           developer rating  \n",
       "0          322.0            Nintendo      E  \n",
       "1          709.0            Nintendo      E  \n",
       "2          192.0            Nintendo      E  \n",
       "3          431.0            Nintendo      E  \n",
       "4          129.0            Nintendo      E  \n",
       "...          ...                 ...    ...  \n",
       "6820        21.0       Fluid Studios      E  \n",
       "6821         9.0     Criterion Games      M  \n",
       "6822       412.0  Kojima Productions      M  \n",
       "6823        43.0        Atomic Games      T  \n",
       "6824        13.0              SimBin   E10+  \n",
       "\n",
       "[6825 rows x 16 columns]"
      ]
     },
     "execution_count": 3,
     "metadata": {},
     "output_type": "execute_result"
    }
   ],
   "source": [
    "# Drop the null columns where all values are null\n",
    "dataset.drop(columns=dataset.columns[0], axis=1, inplace=True)\n",
    "dataset"
   ]
  },
  {
   "cell_type": "code",
   "execution_count": 4,
   "id": "e5d7259e",
   "metadata": {},
   "outputs": [],
   "source": [
    "# set the index of dataset to name\n",
    "dataset.drop(['name', 'developer'], axis=1, inplace=True)"
   ]
  },
  {
   "cell_type": "code",
   "execution_count": 5,
   "id": "698c4e2b",
   "metadata": {},
   "outputs": [
    {
     "name": "stdout",
     "output_type": "stream",
     "text": [
      "   platform  year_of_release  genre  publisher  na_sales  eu_sales  jp_sales  \\\n",
      "0        12             2006     10        160     41.36     28.96      3.77   \n",
      "1        12             2008      6        160     15.68     12.76      3.79   \n",
      "2        12             2009     10        160     15.61     10.93      3.28   \n",
      "3         1             2006      4        160     11.28      9.14      6.50   \n",
      "4        12             2006      3        160     13.96      9.18      2.93   \n",
      "\n",
      "   other_sales  global_sales  critic_score  critic_count  user_score  \\\n",
      "0         8.45         82.53          76.0          51.0         8.0   \n",
      "1         3.29         35.52          82.0          73.0         8.3   \n",
      "2         2.95         32.77          80.0          73.0         8.0   \n",
      "3         2.88         29.80          89.0          65.0         8.5   \n",
      "4         2.84         28.92          58.0          41.0         6.6   \n",
      "\n",
      "   user_count  rating  \n",
      "0       322.0       1  \n",
      "1       709.0       1  \n",
      "2       192.0       1  \n",
      "3       431.0       1  \n",
      "4       129.0       1  \n"
     ]
    }
   ],
   "source": [
    "# Import label encoder \n",
    "from sklearn import preprocessing\n",
    "# label_encoder object knows how to understand word labels. \n",
    "label_encoder = preprocessing.LabelEncoder()\n",
    "# Encode labels in column 'Country'. \n",
    "dataset['platform']= label_encoder.fit_transform(dataset['platform'])\n",
    "dataset['genre']= label_encoder.fit_transform(dataset['genre']) \n",
    "dataset['publisher']= label_encoder.fit_transform(dataset['publisher']) \n",
    "# dataset['developer']= label_encoder.fit_transform(dataset['developer']) \n",
    "dataset['rating']= label_encoder.fit_transform(dataset['rating']) \n",
    "print(dataset.head())"
   ]
  },
  {
   "cell_type": "code",
   "execution_count": 6,
   "id": "777762fa",
   "metadata": {},
   "outputs": [],
   "source": [
    "x = dataset['critic_score'].values\n",
    "y = dataset['global_sales'].values"
   ]
  },
  {
   "cell_type": "code",
   "execution_count": 7,
   "id": "152f3aa6",
   "metadata": {},
   "outputs": [],
   "source": [
    "from sklearn.model_selection import train_test_split\n",
    "x_train, x_test, y_train, y_test = train_test_split(x, y, test_size = 0.2)"
   ]
  },
  {
   "cell_type": "code",
   "execution_count": 8,
   "id": "b769503d",
   "metadata": {},
   "outputs": [],
   "source": [
    "# # create test and train and drop global sales\n",
    "# from sklearn.model_selection import train_test_split\n",
    "# x_train, x_test, y_train, y_test = train_test_split(dataset.drop('global_sales', axis=1), dataset.global_sales,\n",
    "#                                                     test_size=.25, random_state=0)"
   ]
  },
  {
   "cell_type": "code",
   "execution_count": 9,
   "id": "a3493f9b",
   "metadata": {},
   "outputs": [
    {
     "data": {
      "text/plain": [
       "array([80., 76., 80., ..., 80., 75., 74.])"
      ]
     },
     "execution_count": 9,
     "metadata": {},
     "output_type": "execute_result"
    }
   ],
   "source": [
    "x_train"
   ]
  },
  {
   "cell_type": "code",
   "execution_count": 10,
   "id": "da820c93",
   "metadata": {},
   "outputs": [
    {
     "data": {
      "text/plain": [
       "array([3.49, 0.24, 4.76, ..., 0.21, 0.41, 0.05])"
      ]
     },
     "execution_count": 10,
     "metadata": {},
     "output_type": "execute_result"
    }
   ],
   "source": [
    "y_train"
   ]
  },
  {
   "cell_type": "code",
   "execution_count": 11,
   "id": "e5068881",
   "metadata": {},
   "outputs": [],
   "source": [
    "from sklearn.linear_model import LinearRegression\n",
    "regressor = LinearRegression()"
   ]
  },
  {
   "cell_type": "code",
   "execution_count": 12,
   "id": "a111d668",
   "metadata": {},
   "outputs": [
    {
     "data": {
      "text/plain": [
       "LinearRegression()"
      ]
     },
     "execution_count": 12,
     "metadata": {},
     "output_type": "execute_result"
    }
   ],
   "source": [
    "regressor.fit(x_train.reshape(-1,1), y_train.reshape(-1,1))"
   ]
  },
  {
   "cell_type": "code",
   "execution_count": 13,
   "id": "48af7b55",
   "metadata": {},
   "outputs": [],
   "source": [
    "y_pred = regressor.predict(x_test.reshape(-1,1))"
   ]
  },
  {
   "cell_type": "code",
   "execution_count": 14,
   "id": "ffa8422d",
   "metadata": {},
   "outputs": [],
   "source": [
    "# regressor.fit(x_train, y_train)"
   ]
  },
  {
   "cell_type": "code",
   "execution_count": 15,
   "id": "7f452d37",
   "metadata": {},
   "outputs": [],
   "source": [
    "# y_pred = regressor.predict(x_test)"
   ]
  },
  {
   "cell_type": "code",
   "execution_count": 19,
   "id": "46d900cd",
   "metadata": {},
   "outputs": [
    {
     "data": {
      "image/png": "[encoded data removed]",
      "text/plain": [
       "<Figure size 640x480 with 1 Axes>"
      ]
     },
     "metadata": {},
     "output_type": "display_data"
    },
    {
     "data": {
      "image/png": "[encoded data removed]",
      "text/plain": [
       "<Figure size 640x480 with 1 Axes>"
      ]
     },
     "metadata": {},
     "output_type": "display_data"
    }
   ],
   "source": [
    "# # Visualising the Random Forest Regression Results  \n",
    "X_grid = np.arange(min(x), max(x), 0.01)\n",
    "X_grid = X_grid.reshape((len(X_grid), 1))\n",
    "plt.scatter(x_test, y_test, color = 'red')\n",
    "plt.scatter(x_test, y_pred, color = 'green')\n",
    "plt.title('')\n",
    "plt.xlabel('global_sales')\n",
    "plt.ylabel('critic_score')\n",
    "plt.show()\n",
    "\n",
    "plt.plot(X_grid, regressor.predict(X_grid), color = 'black')\n",
    "plt.title('')\n",
    "plt.xlabel('global_sales')\n",
    "plt.ylabel('critic_score')\n",
    "plt.show()"
   ]
  },
  {
   "cell_type": "code",
   "execution_count": 21,
   "id": "519b2f35",
   "metadata": {},
   "outputs": [
    {
     "name": "stdout",
     "output_type": "stream",
     "text": [
      "MAE 0.8085123110490707\n"
     ]
    }
   ],
   "source": [
    "#calculate mean absolute error\n",
    "from sklearn.metrics import mean_absolute_error\n",
    "print(\"MAE\",mean_absolute_error(y_test,y_pred))"
   ]
  },
  {
   "cell_type": "code",
   "execution_count": 22,
   "id": "63603f78",
   "metadata": {},
   "outputs": [
    {
     "name": "stdout",
     "output_type": "stream",
     "text": [
      "MSE 6.9136067246736985\n"
     ]
    }
   ],
   "source": [
    "from sklearn.metrics import mean_squared_error\n",
    "print(\"MSE\",mean_squared_error(y_test,y_pred))"
   ]
  },
  {
   "cell_type": "code",
   "execution_count": 23,
   "id": "c4918281",
   "metadata": {},
   "outputs": [
    {
     "name": "stdout",
     "output_type": "stream",
     "text": [
      "RMSE 2.629373827487012\n"
     ]
    }
   ],
   "source": [
    "print(\"RMSE\",np.sqrt(mean_squared_error(y_test,y_pred)))"
   ]
  },
  {
   "cell_type": "code",
   "execution_count": 24,
   "id": "fd444eb8",
   "metadata": {},
   "outputs": [
    {
     "name": "stdout",
     "output_type": "stream",
     "text": [
      "RMSE 0.9667457294341484\n"
     ]
    }
   ],
   "source": [
    "print(\"RMSE\",np.log(np.sqrt(mean_squared_error(y_test,y_pred))))"
   ]
  },
  {
   "cell_type": "code",
   "execution_count": 25,
   "id": "8e312bbd",
   "metadata": {},
   "outputs": [
    {
     "name": "stdout",
     "output_type": "stream",
     "text": [
      "0.02721698022306518\n"
     ]
    }
   ],
   "source": [
    "from sklearn.metrics import r2_score\n",
    "r2 = r2_score(y_test,y_pred)\n",
    "print(r2)"
   ]
  },
  {
   "cell_type": "code",
   "execution_count": 26,
   "id": "037f1e5a",
   "metadata": {},
   "outputs": [
    {
     "name": "stdout",
     "output_type": "stream",
     "text": [
      "0.027074406132521878\n"
     ]
    }
   ],
   "source": [
    "n=6825\n",
    "k=1\n",
    "adj_r2_score = 1 - ((1-r2)*(n-1)/(n-k-1))\n",
    "print(adj_r2_score)"
   ]
  },
  {
   "cell_type": "code",
   "execution_count": null,
   "id": "89c7c783",
   "metadata": {},
   "outputs": [],
   "source": []
  }
 ],
 "metadata": {
  "kernelspec": {
   "display_name": "mlenv",
   "language": "python",
   "name": "mlenv"
  },
  "language_info": {
   "codemirror_mode": {
    "name": "ipython",
    "version": 3
   },
   "file_extension": ".py",
   "mimetype": "text/x-python",
   "name": "python",
   "nbconvert_exporter": "python",
   "pygments_lexer": "ipython3",
   "version": "3.7.13"
  }
 },
 "nbformat": 4,
 "nbformat_minor": 5
}
